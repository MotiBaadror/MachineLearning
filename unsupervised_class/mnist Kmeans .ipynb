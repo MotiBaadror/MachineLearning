{
 "cells": [
  {
   "cell_type": "code",
   "execution_count": 4,
   "metadata": {},
   "outputs": [
    {
     "name": "stdout",
     "output_type": "stream",
     "text": [
      "Reading and transfering Data\n",
      "[6 3 1 ... 7 3 2]\n"
     ]
    }
   ],
   "source": [
    "import pandas as pd\n",
    "import numpy as np\n",
    "import matplotlib.pyplot as plt \n",
    "%matplotlib inline \n",
    "from kmeans import get_simple_data,plot_k_means\n",
    "from datetime import datetime \n",
    "\n",
    "def get_data(limit=None):\n",
    "    print('Reading and transfering Data')\n",
    "    data=pd.read_csv('train_2.csv').as_matrix()\n",
    "    np.random.shuffle(data)\n",
    "    X=data[:,1:]/255\n",
    "    Y=data[:,0]\n",
    "    if limit:\n",
    "        X=X[:limit]\n",
    "        Y=Y[:limit]\n",
    "    return X,Y\n",
    "\n",
    "def purity(Y,R):\n",
    "    C=np.argmax(R,axis=1)\n",
    "    \n",
    "    N=len(Y)\n",
    "    K=len(set(Y))\n",
    "    total=0\n",
    "    for k in range(K):\n",
    "        max_intersection=0\n",
    "        for j in range(K):\n",
    "            intersection=((C==k)&(Y==j)).sum()\n",
    "            if intersection>max_intersection:\n",
    "                max_intersection+=intersection\n",
    "        total+=max_intersection\n",
    "    return total/N\n",
    "\n",
    "    \n",
    "    \n",
    "# get_data()"
   ]
  },
  {
   "cell_type": "code",
   "execution_count": 8,
   "metadata": {},
   "outputs": [
    {
     "name": "stdout",
     "output_type": "stream",
     "text": [
      "thats\n"
     ]
    }
   ],
   "source": [
    "lt=None\n",
    "lt=10\n",
    "if lt is not None:\n",
    "    print('thats')"
   ]
  },
  {
   "cell_type": "code",
   "execution_count": null,
   "metadata": {},
   "outputs": [],
   "source": []
  }
 ],
 "metadata": {
  "kernelspec": {
   "display_name": "Python 3",
   "language": "python",
   "name": "python3"
  },
  "language_info": {
   "codemirror_mode": {
    "name": "ipython",
    "version": 3
   },
   "file_extension": ".py",
   "mimetype": "text/x-python",
   "name": "python",
   "nbconvert_exporter": "python",
   "pygments_lexer": "ipython3",
   "version": "3.6.4"
  }
 },
 "nbformat": 4,
 "nbformat_minor": 2
}
