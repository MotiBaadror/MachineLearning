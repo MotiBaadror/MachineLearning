{
 "cells": [
  {
   "cell_type": "code",
   "execution_count": 7,
   "metadata": {},
   "outputs": [],
   "source": [
    "import numpy as np\n",
    "from datetime import datetime\n",
    "import matplotlib.pyplot as plt\n",
    "from util import get_data as get_mnist\n",
    "\n",
    "def get_data():\n",
    "    w=np.array([-.5,.5])\n",
    "    b=.1\n",
    "    X=np.random.random((300,2))*2-1\n",
    "    Y=np.sign(X.dot(w)+b)\n",
    "    return X,Y\n",
    "\n",
    "class perceptron"
   ]
  },
  {
   "cell_type": "code",
   "execution_count": 6,
   "metadata": {},
   "outputs": [
    {
     "data": {
      "text/plain": [
       "array([[ 0.80963898, -0.2233095 ],\n",
       "       [ 0.17859313,  0.87153209],\n",
       "       [-0.91320675,  0.03705805],\n",
       "       [-0.20321424, -0.87778871],\n",
       "       [ 0.53372654, -0.75441328],\n",
       "       [ 0.19313804, -0.42064678],\n",
       "       [ 0.49822283,  0.34306497],\n",
       "       [-0.02204902,  0.17942261],\n",
       "       [ 0.3892884 , -0.70559531],\n",
       "       [ 0.16423064,  0.19085708],\n",
       "       [-0.25580546, -0.07352051],\n",
       "       [-0.34664532,  0.99360981],\n",
       "       [ 0.25403759,  0.01677439],\n",
       "       [ 0.44526035, -0.18095336],\n",
       "       [ 0.92656403,  0.31412365],\n",
       "       [-0.36405877, -0.58768038],\n",
       "       [ 0.07350282,  0.22696208],\n",
       "       [-0.79497866, -0.62807187],\n",
       "       [-0.68850857, -0.39095361],\n",
       "       [ 0.02244826,  0.45232222]])"
      ]
     },
     "execution_count": 6,
     "metadata": {},
     "output_type": "execute_result"
    }
   ],
   "source": [
    "np.random.random((20,2))*2-1"
   ]
  },
  {
   "cell_type": "code",
   "execution_count": null,
   "metadata": {},
   "outputs": [],
   "source": []
  }
 ],
 "metadata": {
  "kernelspec": {
   "display_name": "Python 3",
   "language": "python",
   "name": "python3"
  },
  "language_info": {
   "codemirror_mode": {
    "name": "ipython",
    "version": 3
   },
   "file_extension": ".py",
   "mimetype": "text/x-python",
   "name": "python",
   "nbconvert_exporter": "python",
   "pygments_lexer": "ipython3",
   "version": "3.6.4"
  }
 },
 "nbformat": 4,
 "nbformat_minor": 2
}
